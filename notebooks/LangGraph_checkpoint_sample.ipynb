{
 "cells": [
  {
   "cell_type": "markdown",
   "id": "1b2af3d7",
   "metadata": {},
   "source": [
    "# LangGraphのcheckpointのサンプルコード"
   ]
  },
  {
   "cell_type": "code",
   "execution_count": 1,
   "id": "f467f6c7",
   "metadata": {},
   "outputs": [],
   "source": [
    "import os\n",
    "import operator\n",
    "from typing import Annotated, Any\n",
    "from langchain_core.messages import SystemMessage, HumanMessage, BaseMessage\n",
    "from langchain_openai import ChatOpenAI\n",
    "from pydantic import BaseModel, Field\n",
    "from langfuse.callback import CallbackHandler"
   ]
  },
  {
   "cell_type": "code",
   "execution_count": 2,
   "id": "2b0791ab",
   "metadata": {},
   "outputs": [],
   "source": [
    "OPENROUTER_API_KEY = os.getenv(\"OPENROUTER_API_KEY\")\n",
    "if OPENROUTER_API_KEY is None:\n",
    "    raise ValueError(\"OPENROUTER_API_KEY environment variable is not set.\")\n",
    "\n",
    "OPENROUTER_BASE_URL = \"https://openrouter.ai/api/v1\""
   ]
  },
  {
   "cell_type": "code",
   "execution_count": 3,
   "id": "755fe55d",
   "metadata": {},
   "outputs": [],
   "source": [
    "LANGFUSE_HOST = os.getenv(\"LANGFUSE_HOST\")\n",
    "SECRET_KEY = os.getenv(\"SECRET_KEY\")\n",
    "PUBLIC_KEY = os.getenv(\"PUBLIC_KEY\")\n",
    "\n",
    "langfuse_handler = CallbackHandler(\n",
    "    public_key=PUBLIC_KEY,\n",
    "    secret_key=SECRET_KEY,\n",
    "    host=LANGFUSE_HOST,\n",
    ")\n"
   ]
  },
  {
   "cell_type": "code",
   "execution_count": 4,
   "id": "1bb427bd",
   "metadata": {},
   "outputs": [],
   "source": [
    "# グラフのステートを定義\n",
    "class State(BaseModel):\n",
    "    query: str\n",
    "    messages: Annotated[list[BaseMessage], operator.add] = Field(default=[])"
   ]
  },
  {
   "cell_type": "code",
   "execution_count": 5,
   "id": "92e6b3eb",
   "metadata": {},
   "outputs": [],
   "source": [
    "# メッセージを追加するノード関数\n",
    "def add_message(state: State) -> dict[str, Any]:\n",
    "    additional_messages = []\n",
    "\n",
    "    if not state.messages:\n",
    "        additional_messages.append(SystemMessage(content=\"あなたは最小限の応答をする対話エージェントです。\"))\n",
    "    additional_messages.append(HumanMessage(content=state.query))\n",
    "    return {\"messages\": additional_messages}"
   ]
  },
  {
   "cell_type": "code",
   "execution_count": 6,
   "id": "4bd4b94b",
   "metadata": {},
   "outputs": [],
   "source": [
    "# LLMからの応答を追加するノード関数\n",
    "def llm_response(state: State) -> dict[str, Any]:\n",
    "    llm = ChatOpenAI(\n",
    "        openai_api_key=OPENROUTER_API_KEY,\n",
    "        openai_api_base=OPENROUTER_BASE_URL,\n",
    "        model_name=\"google/gemma-3-27b-it:free\",\n",
    "    )\n",
    "    ai_message = llm.invoke(state.messages, config={\"callbacks\": [langfuse_handler]})\n",
    "    return {\"messages\": [ai_message]}"
   ]
  },
  {
   "cell_type": "code",
   "execution_count": null,
   "id": "b1a6532e",
   "metadata": {},
   "outputs": [],
   "source": [
    "from pprint import pprint\n",
    "from langchain_core.runnables import RunnableConfig\n",
    "from langgraph.checkpoint.base import BaseCheckpointSaver\n",
    "\n",
    "\n",
    "def print_checkpoint_dump(checkpointer: BaseCheckpointSaver, config: RunnableConfig):\n",
    "    checkpoint_tuple = checkpointer.get_tuple(config)\n",
    "\n",
    "    print(\"チェックポイントデータ:\")\n",
    "    pprint(checkpoint_tuple.checkpoint)\n",
    "    print(\"\\nメタデータ:\")\n",
    "    pprint(checkpoint_tuple.metadata)"
   ]
  },
  {
   "cell_type": "code",
   "execution_count": 8,
   "id": "80408b0b",
   "metadata": {},
   "outputs": [],
   "source": [
    "from langgraph.graph import StateGraph, END\n",
    "from langgraph.checkpoint.memory import MemorySaver"
   ]
  },
  {
   "cell_type": "code",
   "execution_count": 9,
   "id": "c4ac053f",
   "metadata": {},
   "outputs": [],
   "source": [
    "# グラフを設定\n",
    "graph = StateGraph(State)\n",
    "graph.add_node(\"add_message\", add_message)\n",
    "graph.add_node(\"llm_response\", llm_response)\n",
    "\n",
    "graph.set_entry_point(\"add_message\")\n",
    "graph.add_edge(\"add_message\", \"llm_response\")\n",
    "graph.add_edge(\"llm_response\", END)\n",
    "\n",
    "# チェックポインターを設定\n",
    "checkpointer = MemorySaver()\n",
    "\n",
    "# グラフをコンパイル\n",
    "compiled_graph = graph.compile(checkpointer=checkpointer)"
   ]
  },
  {
   "cell_type": "code",
   "execution_count": 10,
   "id": "2f10ac72",
   "metadata": {},
   "outputs": [
    {
     "data": {
      "text/plain": [
       "{'query': '私の好きなものはずんだ餅です。覚えておいてね。',\n",
       " 'messages': [SystemMessage(content='あなたは最小限の応答をする対話エージェントです。', additional_kwargs={}, response_metadata={}),\n",
       "  HumanMessage(content='私の好きなものはずんだ餅です。覚えておいてね。', additional_kwargs={}, response_metadata={}),\n",
       "  AIMessage(content='\\n了解しました。', additional_kwargs={'refusal': None}, response_metadata={'token_usage': {'completion_tokens': 5, 'prompt_tokens': 40, 'total_tokens': 45, 'completion_tokens_details': None, 'prompt_tokens_details': None}, 'model_name': 'google/gemma-3-27b-it', 'system_fingerprint': None, 'id': 'gen-1745217510-nosKfuWgYCMj1aZSmKVz', 'finish_reason': 'stop', 'logprobs': None}, id='run-c7e7a504-05b3-483a-b34b-ed569d156ee8-0', usage_metadata={'input_tokens': 40, 'output_tokens': 5, 'total_tokens': 45, 'input_token_details': {}, 'output_token_details': {}})]}"
      ]
     },
     "execution_count": 10,
     "metadata": {},
     "output_type": "execute_result"
    }
   ],
   "source": [
    "config = {\"configurable\": {\"thread_id\": \"example-1\"}, \"callbacks\": [langfuse_handler]}\n",
    "user_query = State(query=\"私の好きなものはずんだ餅です。覚えておいてね。\")\n",
    "first_response = compiled_graph.invoke(user_query, config)\n",
    "first_response"
   ]
  },
  {
   "cell_type": "code",
   "execution_count": 11,
   "id": "69328e3a",
   "metadata": {},
   "outputs": [
    {
     "name": "stdout",
     "output_type": "stream",
     "text": [
      "CheckpointTuple(config={'configurable': {'thread_id': 'example-1', 'checkpoint_ns': '', 'checkpoint_id': '1f01e7b3-e4da-6d4e-8002-6a0f246f4480'}}, checkpoint={'v': 2, 'ts': '2025-04-21T06:38:32.357389+00:00', 'id': '1f01e7b3-e4da-6d4e-8002-6a0f246f4480', 'channel_versions': {'__start__': '00000000000000000000000000000002.0.7118226758080944', 'query': '00000000000000000000000000000002.0.3590759194654277', 'messages': '00000000000000000000000000000004.0.13804351538684068', 'start:add_message': '00000000000000000000000000000003.0.9235249002318867', 'add_message': '00000000000000000000000000000004.0.011906834728009685', 'llm_response': '00000000000000000000000000000004.0.23668096507428016'}, 'versions_seen': {'__input__': {}, '__start__': {'__start__': '00000000000000000000000000000001.0.8573990836247918'}, 'add_message': {'start:add_message': '00000000000000000000000000000002.0.01227794035522567'}, 'llm_response': {'add_message': '00000000000000000000000000000003.0.5502931316410851'}}, 'channel_values': {'query': '私の好きなものはずんだ餅です。覚えておいてね。', 'messages': [SystemMessage(content='あなたは最小限の応答をする対話エージェントです。', additional_kwargs={}, response_metadata={}), HumanMessage(content='私の好きなものはずんだ餅です。覚えておいてね。', additional_kwargs={}, response_metadata={}), AIMessage(content='\\n了解しました。', additional_kwargs={'refusal': None}, response_metadata={'token_usage': {'completion_tokens': 5, 'prompt_tokens': 40, 'total_tokens': 45, 'completion_tokens_details': None, 'prompt_tokens_details': None}, 'model_name': 'google/gemma-3-27b-it', 'system_fingerprint': None, 'id': 'gen-1745217510-nosKfuWgYCMj1aZSmKVz', 'finish_reason': 'stop', 'logprobs': None}, id='run-c7e7a504-05b3-483a-b34b-ed569d156ee8-0', usage_metadata={'input_tokens': 40, 'output_tokens': 5, 'total_tokens': 45, 'input_token_details': {}, 'output_token_details': {}})], 'llm_response': 'llm_response'}, 'pending_sends': []}, metadata={'source': 'loop', 'writes': {'llm_response': {'messages': [AIMessage(content='\\n了解しました。', additional_kwargs={'refusal': None}, response_metadata={'token_usage': {'completion_tokens': 5, 'prompt_tokens': 40, 'total_tokens': 45, 'completion_tokens_details': None, 'prompt_tokens_details': None}, 'model_name': 'google/gemma-3-27b-it', 'system_fingerprint': None, 'id': 'gen-1745217510-nosKfuWgYCMj1aZSmKVz', 'finish_reason': 'stop', 'logprobs': None}, id='run-c7e7a504-05b3-483a-b34b-ed569d156ee8-0', usage_metadata={'input_tokens': 40, 'output_tokens': 5, 'total_tokens': 45, 'input_token_details': {}, 'output_token_details': {}})]}}, 'thread_id': 'example-1', 'step': 2, 'parents': {}}, parent_config={'configurable': {'thread_id': 'example-1', 'checkpoint_ns': '', 'checkpoint_id': '1f01e7b3-d2e0-6d34-8001-5e167b1254bc'}}, pending_writes=[])\n",
      "CheckpointTuple(config={'configurable': {'thread_id': 'example-1', 'checkpoint_ns': '', 'checkpoint_id': '1f01e7b3-d2e0-6d34-8001-5e167b1254bc'}}, checkpoint={'v': 2, 'ts': '2025-04-21T06:38:30.472385+00:00', 'id': '1f01e7b3-d2e0-6d34-8001-5e167b1254bc', 'channel_versions': {'__start__': '00000000000000000000000000000002.0.7118226758080944', 'query': '00000000000000000000000000000002.0.3590759194654277', 'messages': '00000000000000000000000000000003.0.10919950128745293', 'start:add_message': '00000000000000000000000000000003.0.9235249002318867', 'add_message': '00000000000000000000000000000003.0.5502931316410851'}, 'versions_seen': {'__input__': {}, '__start__': {'__start__': '00000000000000000000000000000001.0.8573990836247918'}, 'add_message': {'start:add_message': '00000000000000000000000000000002.0.01227794035522567'}}, 'channel_values': {'query': '私の好きなものはずんだ餅です。覚えておいてね。', 'messages': [SystemMessage(content='あなたは最小限の応答をする対話エージェントです。', additional_kwargs={}, response_metadata={}), HumanMessage(content='私の好きなものはずんだ餅です。覚えておいてね。', additional_kwargs={}, response_metadata={})], 'add_message': 'add_message'}, 'pending_sends': []}, metadata={'source': 'loop', 'writes': {'add_message': {'messages': [SystemMessage(content='あなたは最小限の応答をする対話エージェントです。', additional_kwargs={}, response_metadata={}), HumanMessage(content='私の好きなものはずんだ餅です。覚えておいてね。', additional_kwargs={}, response_metadata={})]}}, 'thread_id': 'example-1', 'step': 1, 'parents': {}}, parent_config={'configurable': {'thread_id': 'example-1', 'checkpoint_ns': '', 'checkpoint_id': '1f01e7b3-d2ce-6075-8000-94f3ed82cf19'}}, pending_writes=[('9ce50345-0253-bb21-3efa-854d8de25226', 'messages', [AIMessage(content='\\n了解しました。', additional_kwargs={'refusal': None}, response_metadata={'token_usage': {'completion_tokens': 5, 'prompt_tokens': 40, 'total_tokens': 45, 'completion_tokens_details': None, 'prompt_tokens_details': None}, 'model_name': 'google/gemma-3-27b-it', 'system_fingerprint': None, 'id': 'gen-1745217510-nosKfuWgYCMj1aZSmKVz', 'finish_reason': 'stop', 'logprobs': None}, id='run-c7e7a504-05b3-483a-b34b-ed569d156ee8-0', usage_metadata={'input_tokens': 40, 'output_tokens': 5, 'total_tokens': 45, 'input_token_details': {}, 'output_token_details': {}})]), ('9ce50345-0253-bb21-3efa-854d8de25226', 'llm_response', 'llm_response')])\n",
      "CheckpointTuple(config={'configurable': {'thread_id': 'example-1', 'checkpoint_ns': '', 'checkpoint_id': '1f01e7b3-d2ce-6075-8000-94f3ed82cf19'}}, checkpoint={'v': 2, 'ts': '2025-04-21T06:38:30.464689+00:00', 'id': '1f01e7b3-d2ce-6075-8000-94f3ed82cf19', 'channel_versions': {'__start__': '00000000000000000000000000000002.0.7118226758080944', 'query': '00000000000000000000000000000002.0.3590759194654277', 'messages': '00000000000000000000000000000002.0.7251633258482542', 'start:add_message': '00000000000000000000000000000002.0.01227794035522567'}, 'versions_seen': {'__input__': {}, '__start__': {'__start__': '00000000000000000000000000000001.0.8573990836247918'}}, 'channel_values': {'query': '私の好きなものはずんだ餅です。覚えておいてね。', 'messages': [], 'start:add_message': '__start__'}, 'pending_sends': []}, metadata={'source': 'loop', 'writes': None, 'thread_id': 'example-1', 'step': 0, 'parents': {}}, parent_config={'configurable': {'thread_id': 'example-1', 'checkpoint_ns': '', 'checkpoint_id': '1f01e7b3-d2a5-697d-bfff-7b3197ae87dd'}}, pending_writes=[('30e5c5f4-f809-741f-d2c9-0958860ff8b3', 'messages', [SystemMessage(content='あなたは最小限の応答をする対話エージェントです。', additional_kwargs={}, response_metadata={}), HumanMessage(content='私の好きなものはずんだ餅です。覚えておいてね。', additional_kwargs={}, response_metadata={})]), ('30e5c5f4-f809-741f-d2c9-0958860ff8b3', 'add_message', 'add_message')])\n",
      "CheckpointTuple(config={'configurable': {'thread_id': 'example-1', 'checkpoint_ns': '', 'checkpoint_id': '1f01e7b3-d2a5-697d-bfff-7b3197ae87dd'}}, checkpoint={'v': 2, 'ts': '2025-04-21T06:38:30.448152+00:00', 'id': '1f01e7b3-d2a5-697d-bfff-7b3197ae87dd', 'channel_versions': {'__start__': '00000000000000000000000000000001.0.8573990836247918'}, 'versions_seen': {'__input__': {}}, 'channel_values': {'__start__': State(query='私の好きなものはずんだ餅です。覚えておいてね。', messages=[])}, 'pending_sends': []}, metadata={'source': 'input', 'writes': {'__start__': State(query='私の好きなものはずんだ餅です。覚えておいてね。', messages=[])}, 'thread_id': 'example-1', 'step': -1, 'parents': {}}, parent_config=None, pending_writes=[('aaeca682-506e-01fb-8398-617986a7accc', 'query', '私の好きなものはずんだ餅です。覚えておいてね。'), ('aaeca682-506e-01fb-8398-617986a7accc', 'messages', []), ('aaeca682-506e-01fb-8398-617986a7accc', 'start:add_message', '__start__')])\n"
     ]
    }
   ],
   "source": [
    "for checkpoint in checkpointer.list(config):\n",
    "    print(checkpoint)"
   ]
  },
  {
   "cell_type": "code",
   "execution_count": 12,
   "id": "46cd8ce8",
   "metadata": {},
   "outputs": [
    {
     "name": "stdout",
     "output_type": "stream",
     "text": [
      "チェックポイントデータ:\n",
      "{'channel_values': {'llm_response': 'llm_response',\n",
      "                    'messages': [SystemMessage(content='あなたは最小限の応答をする対話エージェントです。', additional_kwargs={}, response_metadata={}),\n",
      "                                 HumanMessage(content='私の好きなものはずんだ餅です。覚えておいてね。', additional_kwargs={}, response_metadata={}),\n",
      "                                 AIMessage(content='\\n了解しました。', additional_kwargs={'refusal': None}, response_metadata={'token_usage': {'completion_tokens': 5, 'prompt_tokens': 40, 'total_tokens': 45, 'completion_tokens_details': None, 'prompt_tokens_details': None}, 'model_name': 'google/gemma-3-27b-it', 'system_fingerprint': None, 'id': 'gen-1745217510-nosKfuWgYCMj1aZSmKVz', 'finish_reason': 'stop', 'logprobs': None}, id='run-c7e7a504-05b3-483a-b34b-ed569d156ee8-0', usage_metadata={'input_tokens': 40, 'output_tokens': 5, 'total_tokens': 45, 'input_token_details': {}, 'output_token_details': {}})],\n",
      "                    'query': '私の好きなものはずんだ餅です。覚えておいてね。'},\n",
      " 'channel_versions': {'__start__': '00000000000000000000000000000002.0.7118226758080944',\n",
      "                      'add_message': '00000000000000000000000000000004.0.011906834728009685',\n",
      "                      'llm_response': '00000000000000000000000000000004.0.23668096507428016',\n",
      "                      'messages': '00000000000000000000000000000004.0.13804351538684068',\n",
      "                      'query': '00000000000000000000000000000002.0.3590759194654277',\n",
      "                      'start:add_message': '00000000000000000000000000000003.0.9235249002318867'},\n",
      " 'id': '1f01e7b3-e4da-6d4e-8002-6a0f246f4480',\n",
      " 'pending_sends': [],\n",
      " 'ts': '2025-04-21T06:38:32.357389+00:00',\n",
      " 'v': 2,\n",
      " 'versions_seen': {'__input__': {},\n",
      "                   '__start__': {'__start__': '00000000000000000000000000000001.0.8573990836247918'},\n",
      "                   'add_message': {'start:add_message': '00000000000000000000000000000002.0.01227794035522567'},\n",
      "                   'llm_response': {'add_message': '00000000000000000000000000000003.0.5502931316410851'}}}\n",
      "\n",
      "メタデータ:\n",
      "{'parents': {},\n",
      " 'source': 'loop',\n",
      " 'step': 2,\n",
      " 'thread_id': 'example-1',\n",
      " 'writes': {'llm_response': {'messages': [AIMessage(content='\\n了解しました。', additional_kwargs={'refusal': None}, response_metadata={'token_usage': {'completion_tokens': 5, 'prompt_tokens': 40, 'total_tokens': 45, 'completion_tokens_details': None, 'prompt_tokens_details': None}, 'model_name': 'google/gemma-3-27b-it', 'system_fingerprint': None, 'id': 'gen-1745217510-nosKfuWgYCMj1aZSmKVz', 'finish_reason': 'stop', 'logprobs': None}, id='run-c7e7a504-05b3-483a-b34b-ed569d156ee8-0', usage_metadata={'input_tokens': 40, 'output_tokens': 5, 'total_tokens': 45, 'input_token_details': {}, 'output_token_details': {}})]}}}\n"
     ]
    }
   ],
   "source": [
    "print_checkpoint_dump(checkpointer, config)"
   ]
  },
  {
   "cell_type": "code",
   "execution_count": 13,
   "id": "196dc049",
   "metadata": {},
   "outputs": [
    {
     "data": {
      "text/plain": [
       "{'query': '私の好物は何か覚えてる？',\n",
       " 'messages': [SystemMessage(content='あなたは最小限の応答をする対話エージェントです。', additional_kwargs={}, response_metadata={}),\n",
       "  HumanMessage(content='私の好きなものはずんだ餅です。覚えておいてね。', additional_kwargs={}, response_metadata={}),\n",
       "  AIMessage(content='\\n了解しました。', additional_kwargs={'refusal': None}, response_metadata={'token_usage': {'completion_tokens': 5, 'prompt_tokens': 40, 'total_tokens': 45, 'completion_tokens_details': None, 'prompt_tokens_details': None}, 'model_name': 'google/gemma-3-27b-it', 'system_fingerprint': None, 'id': 'gen-1745217510-nosKfuWgYCMj1aZSmKVz', 'finish_reason': 'stop', 'logprobs': None}, id='run-c7e7a504-05b3-483a-b34b-ed569d156ee8-0', usage_metadata={'input_tokens': 40, 'output_tokens': 5, 'total_tokens': 45, 'input_token_details': {}, 'output_token_details': {}}),\n",
       "  HumanMessage(content='私の好物は何か覚えてる？', additional_kwargs={}, response_metadata={}),\n",
       "  AIMessage(content='\\nずんだ餅。', additional_kwargs={'refusal': None}, response_metadata={'token_usage': {'completion_tokens': 6, 'prompt_tokens': 60, 'total_tokens': 66, 'completion_tokens_details': None, 'prompt_tokens_details': None}, 'model_name': 'google/gemma-3-27b-it', 'system_fingerprint': None, 'id': 'gen-1745217523-48YYMzV800dWK5ZxD7UA', 'finish_reason': 'stop', 'logprobs': None}, id='run-ab9b2857-e614-445e-b658-d6dbe77403e9-0', usage_metadata={'input_tokens': 60, 'output_tokens': 6, 'total_tokens': 66, 'input_token_details': {}, 'output_token_details': {}})]}"
      ]
     },
     "execution_count": 13,
     "metadata": {},
     "output_type": "execute_result"
    }
   ],
   "source": [
    "user_query = State(query=\"私の好物は何か覚えてる？\")\n",
    "second_response = compiled_graph.invoke(user_query, config)\n",
    "second_response"
   ]
  },
  {
   "cell_type": "code",
   "execution_count": 14,
   "id": "df49bc9c",
   "metadata": {},
   "outputs": [
    {
     "name": "stdout",
     "output_type": "stream",
     "text": [
      "CheckpointTuple(config={'configurable': {'thread_id': 'example-1', 'checkpoint_ns': '', 'checkpoint_id': '1f01e7b4-6cb0-647c-8006-6a77f3d62036'}}, checkpoint={'v': 2, 'ts': '2025-04-21T06:38:46.600570+00:00', 'id': '1f01e7b4-6cb0-647c-8006-6a77f3d62036', 'channel_versions': {'__start__': '00000000000000000000000000000006.0.8812221959059374', 'query': '00000000000000000000000000000006.0.2068364970194544', 'messages': '00000000000000000000000000000008.0.6491719237330902', 'start:add_message': '00000000000000000000000000000007.0.3309745091226802', 'add_message': '00000000000000000000000000000008.0.9480927303271989', 'llm_response': '00000000000000000000000000000008.0.4328003221771848'}, 'versions_seen': {'__input__': {}, '__start__': {'__start__': '00000000000000000000000000000005.0.05459234375282418'}, 'add_message': {'start:add_message': '00000000000000000000000000000006.0.21340678623293463'}, 'llm_response': {'add_message': '00000000000000000000000000000007.0.4140059104701863'}}, 'channel_values': {'query': '私の好物は何か覚えてる？', 'messages': [SystemMessage(content='あなたは最小限の応答をする対話エージェントです。', additional_kwargs={}, response_metadata={}), HumanMessage(content='私の好きなものはずんだ餅です。覚えておいてね。', additional_kwargs={}, response_metadata={}), AIMessage(content='\\n了解しました。', additional_kwargs={'refusal': None}, response_metadata={'token_usage': {'completion_tokens': 5, 'prompt_tokens': 40, 'total_tokens': 45, 'completion_tokens_details': None, 'prompt_tokens_details': None}, 'model_name': 'google/gemma-3-27b-it', 'system_fingerprint': None, 'id': 'gen-1745217510-nosKfuWgYCMj1aZSmKVz', 'finish_reason': 'stop', 'logprobs': None}, id='run-c7e7a504-05b3-483a-b34b-ed569d156ee8-0', usage_metadata={'input_tokens': 40, 'output_tokens': 5, 'total_tokens': 45, 'input_token_details': {}, 'output_token_details': {}}), HumanMessage(content='私の好物は何か覚えてる？', additional_kwargs={}, response_metadata={}), AIMessage(content='\\nずんだ餅。', additional_kwargs={'refusal': None}, response_metadata={'token_usage': {'completion_tokens': 6, 'prompt_tokens': 60, 'total_tokens': 66, 'completion_tokens_details': None, 'prompt_tokens_details': None}, 'model_name': 'google/gemma-3-27b-it', 'system_fingerprint': None, 'id': 'gen-1745217523-48YYMzV800dWK5ZxD7UA', 'finish_reason': 'stop', 'logprobs': None}, id='run-ab9b2857-e614-445e-b658-d6dbe77403e9-0', usage_metadata={'input_tokens': 60, 'output_tokens': 6, 'total_tokens': 66, 'input_token_details': {}, 'output_token_details': {}})], 'llm_response': 'llm_response'}, 'pending_sends': []}, metadata={'source': 'loop', 'writes': {'llm_response': {'messages': [AIMessage(content='\\nずんだ餅。', additional_kwargs={'refusal': None}, response_metadata={'token_usage': {'completion_tokens': 6, 'prompt_tokens': 60, 'total_tokens': 66, 'completion_tokens_details': None, 'prompt_tokens_details': None}, 'model_name': 'google/gemma-3-27b-it', 'system_fingerprint': None, 'id': 'gen-1745217523-48YYMzV800dWK5ZxD7UA', 'finish_reason': 'stop', 'logprobs': None}, id='run-ab9b2857-e614-445e-b658-d6dbe77403e9-0', usage_metadata={'input_tokens': 60, 'output_tokens': 6, 'total_tokens': 66, 'input_token_details': {}, 'output_token_details': {}})]}}, 'thread_id': 'example-1', 'step': 6, 'parents': {}}, parent_config={'configurable': {'thread_id': 'example-1', 'checkpoint_ns': '', 'checkpoint_id': '1f01e7b4-5ec0-618f-8005-716a6ca82306'}}, pending_writes=[])\n",
      "CheckpointTuple(config={'configurable': {'thread_id': 'example-1', 'checkpoint_ns': '', 'checkpoint_id': '1f01e7b4-5ec0-618f-8005-716a6ca82306'}}, checkpoint={'v': 2, 'ts': '2025-04-21T06:38:45.139023+00:00', 'id': '1f01e7b4-5ec0-618f-8005-716a6ca82306', 'channel_versions': {'__start__': '00000000000000000000000000000006.0.8812221959059374', 'query': '00000000000000000000000000000006.0.2068364970194544', 'messages': '00000000000000000000000000000007.0.12589539656133486', 'start:add_message': '00000000000000000000000000000007.0.3309745091226802', 'add_message': '00000000000000000000000000000007.0.4140059104701863', 'llm_response': '00000000000000000000000000000006.0.43089971991649245'}, 'versions_seen': {'__input__': {}, '__start__': {'__start__': '00000000000000000000000000000005.0.05459234375282418'}, 'add_message': {'start:add_message': '00000000000000000000000000000006.0.21340678623293463'}, 'llm_response': {'add_message': '00000000000000000000000000000003.0.5502931316410851'}}, 'channel_values': {'query': '私の好物は何か覚えてる？', 'messages': [SystemMessage(content='あなたは最小限の応答をする対話エージェントです。', additional_kwargs={}, response_metadata={}), HumanMessage(content='私の好きなものはずんだ餅です。覚えておいてね。', additional_kwargs={}, response_metadata={}), AIMessage(content='\\n了解しました。', additional_kwargs={'refusal': None}, response_metadata={'token_usage': {'completion_tokens': 5, 'prompt_tokens': 40, 'total_tokens': 45, 'completion_tokens_details': None, 'prompt_tokens_details': None}, 'model_name': 'google/gemma-3-27b-it', 'system_fingerprint': None, 'id': 'gen-1745217510-nosKfuWgYCMj1aZSmKVz', 'finish_reason': 'stop', 'logprobs': None}, id='run-c7e7a504-05b3-483a-b34b-ed569d156ee8-0', usage_metadata={'input_tokens': 40, 'output_tokens': 5, 'total_tokens': 45, 'input_token_details': {}, 'output_token_details': {}}), HumanMessage(content='私の好物は何か覚えてる？', additional_kwargs={}, response_metadata={})], 'add_message': 'add_message'}, 'pending_sends': []}, metadata={'source': 'loop', 'writes': {'add_message': {'messages': [HumanMessage(content='私の好物は何か覚えてる？', additional_kwargs={}, response_metadata={})]}}, 'thread_id': 'example-1', 'step': 5, 'parents': {}}, parent_config={'configurable': {'thread_id': 'example-1', 'checkpoint_ns': '', 'checkpoint_id': '1f01e7b4-5eaa-639d-8004-042a54dea1d9'}}, pending_writes=[('8c0b285a-7a87-15bf-b2f1-b4c0a57a372b', 'messages', [AIMessage(content='\\nずんだ餅。', additional_kwargs={'refusal': None}, response_metadata={'token_usage': {'completion_tokens': 6, 'prompt_tokens': 60, 'total_tokens': 66, 'completion_tokens_details': None, 'prompt_tokens_details': None}, 'model_name': 'google/gemma-3-27b-it', 'system_fingerprint': None, 'id': 'gen-1745217523-48YYMzV800dWK5ZxD7UA', 'finish_reason': 'stop', 'logprobs': None}, id='run-ab9b2857-e614-445e-b658-d6dbe77403e9-0', usage_metadata={'input_tokens': 60, 'output_tokens': 6, 'total_tokens': 66, 'input_token_details': {}, 'output_token_details': {}})]), ('8c0b285a-7a87-15bf-b2f1-b4c0a57a372b', 'llm_response', 'llm_response')])\n",
      "CheckpointTuple(config={'configurable': {'thread_id': 'example-1', 'checkpoint_ns': '', 'checkpoint_id': '1f01e7b4-5eaa-639d-8004-042a54dea1d9'}}, checkpoint={'v': 2, 'ts': '2025-04-21T06:38:45.130083+00:00', 'id': '1f01e7b4-5eaa-639d-8004-042a54dea1d9', 'channel_versions': {'__start__': '00000000000000000000000000000006.0.8812221959059374', 'query': '00000000000000000000000000000006.0.2068364970194544', 'messages': '00000000000000000000000000000006.0.5748099836527535', 'start:add_message': '00000000000000000000000000000006.0.21340678623293463', 'add_message': '00000000000000000000000000000004.0.011906834728009685', 'llm_response': '00000000000000000000000000000006.0.43089971991649245'}, 'versions_seen': {'__input__': {}, '__start__': {'__start__': '00000000000000000000000000000005.0.05459234375282418'}, 'add_message': {'start:add_message': '00000000000000000000000000000002.0.01227794035522567'}, 'llm_response': {'add_message': '00000000000000000000000000000003.0.5502931316410851'}}, 'channel_values': {'query': '私の好物は何か覚えてる？', 'messages': [SystemMessage(content='あなたは最小限の応答をする対話エージェントです。', additional_kwargs={}, response_metadata={}), HumanMessage(content='私の好きなものはずんだ餅です。覚えておいてね。', additional_kwargs={}, response_metadata={}), AIMessage(content='\\n了解しました。', additional_kwargs={'refusal': None}, response_metadata={'token_usage': {'completion_tokens': 5, 'prompt_tokens': 40, 'total_tokens': 45, 'completion_tokens_details': None, 'prompt_tokens_details': None}, 'model_name': 'google/gemma-3-27b-it', 'system_fingerprint': None, 'id': 'gen-1745217510-nosKfuWgYCMj1aZSmKVz', 'finish_reason': 'stop', 'logprobs': None}, id='run-c7e7a504-05b3-483a-b34b-ed569d156ee8-0', usage_metadata={'input_tokens': 40, 'output_tokens': 5, 'total_tokens': 45, 'input_token_details': {}, 'output_token_details': {}})], 'start:add_message': '__start__'}, 'pending_sends': []}, metadata={'source': 'loop', 'writes': None, 'thread_id': 'example-1', 'step': 4, 'parents': {}}, parent_config={'configurable': {'thread_id': 'example-1', 'checkpoint_ns': '', 'checkpoint_id': '1f01e7b4-5e86-6266-8003-ca2745dd6d69'}}, pending_writes=[('fc457106-a1fc-422d-7c61-82b6404d58f3', 'messages', [HumanMessage(content='私の好物は何か覚えてる？', additional_kwargs={}, response_metadata={})]), ('fc457106-a1fc-422d-7c61-82b6404d58f3', 'add_message', 'add_message')])\n",
      "CheckpointTuple(config={'configurable': {'thread_id': 'example-1', 'checkpoint_ns': '', 'checkpoint_id': '1f01e7b4-5e86-6266-8003-ca2745dd6d69'}}, checkpoint={'v': 2, 'ts': '2025-04-21T06:38:45.115306+00:00', 'id': '1f01e7b4-5e86-6266-8003-ca2745dd6d69', 'channel_versions': {'__start__': '00000000000000000000000000000005.0.05459234375282418', 'query': '00000000000000000000000000000002.0.3590759194654277', 'messages': '00000000000000000000000000000004.0.13804351538684068', 'start:add_message': '00000000000000000000000000000003.0.9235249002318867', 'add_message': '00000000000000000000000000000004.0.011906834728009685', 'llm_response': '00000000000000000000000000000004.0.23668096507428016'}, 'versions_seen': {'__input__': {}, '__start__': {'__start__': '00000000000000000000000000000001.0.8573990836247918'}, 'add_message': {'start:add_message': '00000000000000000000000000000002.0.01227794035522567'}, 'llm_response': {'add_message': '00000000000000000000000000000003.0.5502931316410851'}}, 'channel_values': {'__start__': State(query='私の好物は何か覚えてる？', messages=[]), 'query': '私の好きなものはずんだ餅です。覚えておいてね。', 'messages': [SystemMessage(content='あなたは最小限の応答をする対話エージェントです。', additional_kwargs={}, response_metadata={}), HumanMessage(content='私の好きなものはずんだ餅です。覚えておいてね。', additional_kwargs={}, response_metadata={}), AIMessage(content='\\n了解しました。', additional_kwargs={'refusal': None}, response_metadata={'token_usage': {'completion_tokens': 5, 'prompt_tokens': 40, 'total_tokens': 45, 'completion_tokens_details': None, 'prompt_tokens_details': None}, 'model_name': 'google/gemma-3-27b-it', 'system_fingerprint': None, 'id': 'gen-1745217510-nosKfuWgYCMj1aZSmKVz', 'finish_reason': 'stop', 'logprobs': None}, id='run-c7e7a504-05b3-483a-b34b-ed569d156ee8-0', usage_metadata={'input_tokens': 40, 'output_tokens': 5, 'total_tokens': 45, 'input_token_details': {}, 'output_token_details': {}})], 'llm_response': 'llm_response'}, 'pending_sends': []}, metadata={'source': 'input', 'writes': {'__start__': State(query='私の好物は何か覚えてる？', messages=[])}, 'thread_id': 'example-1', 'step': 3, 'parents': {}}, parent_config={'configurable': {'thread_id': 'example-1', 'checkpoint_ns': '', 'checkpoint_id': '1f01e7b3-e4da-6d4e-8002-6a0f246f4480'}}, pending_writes=[('93468556-e99e-7d5f-f19e-bbf07c9f74e7', 'query', '私の好物は何か覚えてる？'), ('93468556-e99e-7d5f-f19e-bbf07c9f74e7', 'messages', []), ('93468556-e99e-7d5f-f19e-bbf07c9f74e7', 'start:add_message', '__start__')])\n",
      "CheckpointTuple(config={'configurable': {'thread_id': 'example-1', 'checkpoint_ns': '', 'checkpoint_id': '1f01e7b3-e4da-6d4e-8002-6a0f246f4480'}}, checkpoint={'v': 2, 'ts': '2025-04-21T06:38:32.357389+00:00', 'id': '1f01e7b3-e4da-6d4e-8002-6a0f246f4480', 'channel_versions': {'__start__': '00000000000000000000000000000002.0.7118226758080944', 'query': '00000000000000000000000000000002.0.3590759194654277', 'messages': '00000000000000000000000000000004.0.13804351538684068', 'start:add_message': '00000000000000000000000000000003.0.9235249002318867', 'add_message': '00000000000000000000000000000004.0.011906834728009685', 'llm_response': '00000000000000000000000000000004.0.23668096507428016'}, 'versions_seen': {'__input__': {}, '__start__': {'__start__': '00000000000000000000000000000001.0.8573990836247918'}, 'add_message': {'start:add_message': '00000000000000000000000000000002.0.01227794035522567'}, 'llm_response': {'add_message': '00000000000000000000000000000003.0.5502931316410851'}}, 'channel_values': {'query': '私の好きなものはずんだ餅です。覚えておいてね。', 'messages': [SystemMessage(content='あなたは最小限の応答をする対話エージェントです。', additional_kwargs={}, response_metadata={}), HumanMessage(content='私の好きなものはずんだ餅です。覚えておいてね。', additional_kwargs={}, response_metadata={}), AIMessage(content='\\n了解しました。', additional_kwargs={'refusal': None}, response_metadata={'token_usage': {'completion_tokens': 5, 'prompt_tokens': 40, 'total_tokens': 45, 'completion_tokens_details': None, 'prompt_tokens_details': None}, 'model_name': 'google/gemma-3-27b-it', 'system_fingerprint': None, 'id': 'gen-1745217510-nosKfuWgYCMj1aZSmKVz', 'finish_reason': 'stop', 'logprobs': None}, id='run-c7e7a504-05b3-483a-b34b-ed569d156ee8-0', usage_metadata={'input_tokens': 40, 'output_tokens': 5, 'total_tokens': 45, 'input_token_details': {}, 'output_token_details': {}})], 'llm_response': 'llm_response'}, 'pending_sends': []}, metadata={'source': 'loop', 'writes': {'llm_response': {'messages': [AIMessage(content='\\n了解しました。', additional_kwargs={'refusal': None}, response_metadata={'token_usage': {'completion_tokens': 5, 'prompt_tokens': 40, 'total_tokens': 45, 'completion_tokens_details': None, 'prompt_tokens_details': None}, 'model_name': 'google/gemma-3-27b-it', 'system_fingerprint': None, 'id': 'gen-1745217510-nosKfuWgYCMj1aZSmKVz', 'finish_reason': 'stop', 'logprobs': None}, id='run-c7e7a504-05b3-483a-b34b-ed569d156ee8-0', usage_metadata={'input_tokens': 40, 'output_tokens': 5, 'total_tokens': 45, 'input_token_details': {}, 'output_token_details': {}})]}}, 'thread_id': 'example-1', 'step': 2, 'parents': {}}, parent_config={'configurable': {'thread_id': 'example-1', 'checkpoint_ns': '', 'checkpoint_id': '1f01e7b3-d2e0-6d34-8001-5e167b1254bc'}}, pending_writes=[])\n",
      "CheckpointTuple(config={'configurable': {'thread_id': 'example-1', 'checkpoint_ns': '', 'checkpoint_id': '1f01e7b3-d2e0-6d34-8001-5e167b1254bc'}}, checkpoint={'v': 2, 'ts': '2025-04-21T06:38:30.472385+00:00', 'id': '1f01e7b3-d2e0-6d34-8001-5e167b1254bc', 'channel_versions': {'__start__': '00000000000000000000000000000002.0.7118226758080944', 'query': '00000000000000000000000000000002.0.3590759194654277', 'messages': '00000000000000000000000000000003.0.10919950128745293', 'start:add_message': '00000000000000000000000000000003.0.9235249002318867', 'add_message': '00000000000000000000000000000003.0.5502931316410851'}, 'versions_seen': {'__input__': {}, '__start__': {'__start__': '00000000000000000000000000000001.0.8573990836247918'}, 'add_message': {'start:add_message': '00000000000000000000000000000002.0.01227794035522567'}}, 'channel_values': {'query': '私の好きなものはずんだ餅です。覚えておいてね。', 'messages': [SystemMessage(content='あなたは最小限の応答をする対話エージェントです。', additional_kwargs={}, response_metadata={}), HumanMessage(content='私の好きなものはずんだ餅です。覚えておいてね。', additional_kwargs={}, response_metadata={})], 'add_message': 'add_message'}, 'pending_sends': []}, metadata={'source': 'loop', 'writes': {'add_message': {'messages': [SystemMessage(content='あなたは最小限の応答をする対話エージェントです。', additional_kwargs={}, response_metadata={}), HumanMessage(content='私の好きなものはずんだ餅です。覚えておいてね。', additional_kwargs={}, response_metadata={})]}}, 'thread_id': 'example-1', 'step': 1, 'parents': {}}, parent_config={'configurable': {'thread_id': 'example-1', 'checkpoint_ns': '', 'checkpoint_id': '1f01e7b3-d2ce-6075-8000-94f3ed82cf19'}}, pending_writes=[('9ce50345-0253-bb21-3efa-854d8de25226', 'messages', [AIMessage(content='\\n了解しました。', additional_kwargs={'refusal': None}, response_metadata={'token_usage': {'completion_tokens': 5, 'prompt_tokens': 40, 'total_tokens': 45, 'completion_tokens_details': None, 'prompt_tokens_details': None}, 'model_name': 'google/gemma-3-27b-it', 'system_fingerprint': None, 'id': 'gen-1745217510-nosKfuWgYCMj1aZSmKVz', 'finish_reason': 'stop', 'logprobs': None}, id='run-c7e7a504-05b3-483a-b34b-ed569d156ee8-0', usage_metadata={'input_tokens': 40, 'output_tokens': 5, 'total_tokens': 45, 'input_token_details': {}, 'output_token_details': {}})]), ('9ce50345-0253-bb21-3efa-854d8de25226', 'llm_response', 'llm_response')])\n",
      "CheckpointTuple(config={'configurable': {'thread_id': 'example-1', 'checkpoint_ns': '', 'checkpoint_id': '1f01e7b3-d2ce-6075-8000-94f3ed82cf19'}}, checkpoint={'v': 2, 'ts': '2025-04-21T06:38:30.464689+00:00', 'id': '1f01e7b3-d2ce-6075-8000-94f3ed82cf19', 'channel_versions': {'__start__': '00000000000000000000000000000002.0.7118226758080944', 'query': '00000000000000000000000000000002.0.3590759194654277', 'messages': '00000000000000000000000000000002.0.7251633258482542', 'start:add_message': '00000000000000000000000000000002.0.01227794035522567'}, 'versions_seen': {'__input__': {}, '__start__': {'__start__': '00000000000000000000000000000001.0.8573990836247918'}}, 'channel_values': {'query': '私の好きなものはずんだ餅です。覚えておいてね。', 'messages': [], 'start:add_message': '__start__'}, 'pending_sends': []}, metadata={'source': 'loop', 'writes': None, 'thread_id': 'example-1', 'step': 0, 'parents': {}}, parent_config={'configurable': {'thread_id': 'example-1', 'checkpoint_ns': '', 'checkpoint_id': '1f01e7b3-d2a5-697d-bfff-7b3197ae87dd'}}, pending_writes=[('30e5c5f4-f809-741f-d2c9-0958860ff8b3', 'messages', [SystemMessage(content='あなたは最小限の応答をする対話エージェントです。', additional_kwargs={}, response_metadata={}), HumanMessage(content='私の好きなものはずんだ餅です。覚えておいてね。', additional_kwargs={}, response_metadata={})]), ('30e5c5f4-f809-741f-d2c9-0958860ff8b3', 'add_message', 'add_message')])\n",
      "CheckpointTuple(config={'configurable': {'thread_id': 'example-1', 'checkpoint_ns': '', 'checkpoint_id': '1f01e7b3-d2a5-697d-bfff-7b3197ae87dd'}}, checkpoint={'v': 2, 'ts': '2025-04-21T06:38:30.448152+00:00', 'id': '1f01e7b3-d2a5-697d-bfff-7b3197ae87dd', 'channel_versions': {'__start__': '00000000000000000000000000000001.0.8573990836247918'}, 'versions_seen': {'__input__': {}}, 'channel_values': {'__start__': State(query='私の好きなものはずんだ餅です。覚えておいてね。', messages=[])}, 'pending_sends': []}, metadata={'source': 'input', 'writes': {'__start__': State(query='私の好きなものはずんだ餅です。覚えておいてね。', messages=[])}, 'thread_id': 'example-1', 'step': -1, 'parents': {}}, parent_config=None, pending_writes=[('aaeca682-506e-01fb-8398-617986a7accc', 'query', '私の好きなものはずんだ餅です。覚えておいてね。'), ('aaeca682-506e-01fb-8398-617986a7accc', 'messages', []), ('aaeca682-506e-01fb-8398-617986a7accc', 'start:add_message', '__start__')])\n"
     ]
    }
   ],
   "source": [
    "for checkpoint in checkpointer.list(config):\n",
    "    print(checkpoint)"
   ]
  },
  {
   "cell_type": "code",
   "execution_count": 15,
   "id": "9f1721f1",
   "metadata": {},
   "outputs": [
    {
     "name": "stdout",
     "output_type": "stream",
     "text": [
      "チェックポイントデータ:\n",
      "{'channel_values': {'llm_response': 'llm_response',\n",
      "                    'messages': [SystemMessage(content='あなたは最小限の応答をする対話エージェントです。', additional_kwargs={}, response_metadata={}),\n",
      "                                 HumanMessage(content='私の好きなものはずんだ餅です。覚えておいてね。', additional_kwargs={}, response_metadata={}),\n",
      "                                 AIMessage(content='\\n了解しました。', additional_kwargs={'refusal': None}, response_metadata={'token_usage': {'completion_tokens': 5, 'prompt_tokens': 40, 'total_tokens': 45, 'completion_tokens_details': None, 'prompt_tokens_details': None}, 'model_name': 'google/gemma-3-27b-it', 'system_fingerprint': None, 'id': 'gen-1745217510-nosKfuWgYCMj1aZSmKVz', 'finish_reason': 'stop', 'logprobs': None}, id='run-c7e7a504-05b3-483a-b34b-ed569d156ee8-0', usage_metadata={'input_tokens': 40, 'output_tokens': 5, 'total_tokens': 45, 'input_token_details': {}, 'output_token_details': {}}),\n",
      "                                 HumanMessage(content='私の好物は何か覚えてる？', additional_kwargs={}, response_metadata={}),\n",
      "                                 AIMessage(content='\\nずんだ餅。', additional_kwargs={'refusal': None}, response_metadata={'token_usage': {'completion_tokens': 6, 'prompt_tokens': 60, 'total_tokens': 66, 'completion_tokens_details': None, 'prompt_tokens_details': None}, 'model_name': 'google/gemma-3-27b-it', 'system_fingerprint': None, 'id': 'gen-1745217523-48YYMzV800dWK5ZxD7UA', 'finish_reason': 'stop', 'logprobs': None}, id='run-ab9b2857-e614-445e-b658-d6dbe77403e9-0', usage_metadata={'input_tokens': 60, 'output_tokens': 6, 'total_tokens': 66, 'input_token_details': {}, 'output_token_details': {}})],\n",
      "                    'query': '私の好物は何か覚えてる？'},\n",
      " 'channel_versions': {'__start__': '00000000000000000000000000000006.0.8812221959059374',\n",
      "                      'add_message': '00000000000000000000000000000008.0.9480927303271989',\n",
      "                      'llm_response': '00000000000000000000000000000008.0.4328003221771848',\n",
      "                      'messages': '00000000000000000000000000000008.0.6491719237330902',\n",
      "                      'query': '00000000000000000000000000000006.0.2068364970194544',\n",
      "                      'start:add_message': '00000000000000000000000000000007.0.3309745091226802'},\n",
      " 'id': '1f01e7b4-6cb0-647c-8006-6a77f3d62036',\n",
      " 'pending_sends': [],\n",
      " 'ts': '2025-04-21T06:38:46.600570+00:00',\n",
      " 'v': 2,\n",
      " 'versions_seen': {'__input__': {},\n",
      "                   '__start__': {'__start__': '00000000000000000000000000000005.0.05459234375282418'},\n",
      "                   'add_message': {'start:add_message': '00000000000000000000000000000006.0.21340678623293463'},\n",
      "                   'llm_response': {'add_message': '00000000000000000000000000000007.0.4140059104701863'}}}\n",
      "\n",
      "メタデータ:\n",
      "{'parents': {},\n",
      " 'source': 'loop',\n",
      " 'step': 6,\n",
      " 'thread_id': 'example-1',\n",
      " 'writes': {'llm_response': {'messages': [AIMessage(content='\\nずんだ餅。', additional_kwargs={'refusal': None}, response_metadata={'token_usage': {'completion_tokens': 6, 'prompt_tokens': 60, 'total_tokens': 66, 'completion_tokens_details': None, 'prompt_tokens_details': None}, 'model_name': 'google/gemma-3-27b-it', 'system_fingerprint': None, 'id': 'gen-1745217523-48YYMzV800dWK5ZxD7UA', 'finish_reason': 'stop', 'logprobs': None}, id='run-ab9b2857-e614-445e-b658-d6dbe77403e9-0', usage_metadata={'input_tokens': 60, 'output_tokens': 6, 'total_tokens': 66, 'input_token_details': {}, 'output_token_details': {}})]}}}\n"
     ]
    }
   ],
   "source": [
    "print_checkpoint_dump(checkpointer, config)"
   ]
  },
  {
   "cell_type": "code",
   "execution_count": 16,
   "id": "f6d1bece",
   "metadata": {},
   "outputs": [
    {
     "data": {
      "text/plain": [
       "{'query': '私の好物は何？',\n",
       " 'messages': [SystemMessage(content='あなたは最小限の応答をする対話エージェントです。', additional_kwargs={}, response_metadata={}),\n",
       "  HumanMessage(content='私の好物は何？', additional_kwargs={}, response_metadata={}),\n",
       "  AIMessage(content='\\n知りません。', additional_kwargs={'refusal': None}, response_metadata={'token_usage': {'completion_tokens': 5, 'prompt_tokens': 32, 'total_tokens': 37, 'completion_tokens_details': None, 'prompt_tokens_details': None}, 'model_name': 'google/gemma-3-27b-it', 'system_fingerprint': None, 'id': 'gen-1745217577-aAFrrUBmFJddt4ZCMCQB', 'finish_reason': 'stop', 'logprobs': None}, id='run-6ea3877b-942a-4945-b17c-c00d9080a726-0', usage_metadata={'input_tokens': 32, 'output_tokens': 5, 'total_tokens': 37, 'input_token_details': {}, 'output_token_details': {}})]}"
      ]
     },
     "execution_count": 16,
     "metadata": {},
     "output_type": "execute_result"
    }
   ],
   "source": [
    "config = {\"configurable\": {\"thread_id\": \"example-2\"}, \"callbacks\": [langfuse_handler]}\n",
    "user_query = State(query=\"私の好物は何？\")\n",
    "other_thread_response = compiled_graph.invoke(user_query, config)\n",
    "other_thread_response"
   ]
  },
  {
   "cell_type": "code",
   "execution_count": null,
   "id": "93c2c7d1",
   "metadata": {},
   "outputs": [],
   "source": []
  }
 ],
 "metadata": {
  "kernelspec": {
   "display_name": ".venv",
   "language": "python",
   "name": "python3"
  },
  "language_info": {
   "codemirror_mode": {
    "name": "ipython",
    "version": 3
   },
   "file_extension": ".py",
   "mimetype": "text/x-python",
   "name": "python",
   "nbconvert_exporter": "python",
   "pygments_lexer": "ipython3",
   "version": "3.13.2"
  }
 },
 "nbformat": 4,
 "nbformat_minor": 5
}

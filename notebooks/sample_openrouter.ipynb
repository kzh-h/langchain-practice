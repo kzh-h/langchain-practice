{
 "cells": [
  {
   "cell_type": "markdown",
   "id": "7d2f665d",
   "metadata": {},
   "source": [
    "# Openrouterのサンプル\n",
    "langchain使用"
   ]
  },
  {
   "cell_type": "code",
   "execution_count": 2,
   "id": "17fea674",
   "metadata": {},
   "outputs": [],
   "source": [
    "import os\n",
    "from langchain.chat_models import ChatOpenAI\n",
    "from langchain.prompts import PromptTemplate\n",
    "from langchain.chains import LLMChain\n",
    "from os import getenv\n",
    "# from dotenv import load_dotenv\n",
    "\n",
    "# load_dotenv()\n"
   ]
  },
  {
   "cell_type": "code",
   "execution_count": 3,
   "id": "82b4149e",
   "metadata": {},
   "outputs": [],
   "source": [
    "os.environ[\"OPENROUTER_BASE_URL\"] = \"https://openrouter.ai/api/v1\""
   ]
  },
  {
   "cell_type": "code",
   "execution_count": null,
   "id": "7b300a19",
   "metadata": {},
   "outputs": [
    {
     "name": "stdout",
     "output_type": "stream",
     "text": [
      "\n",
      "Okay, let's break this down:\n",
      "\n",
      "1. **Justin Bieber's birth year:** Justin Bieber was born in 1994.\n",
      "2. **Super Bowl corresponding to 1994:** The Super Bowl played in early 1994 (specifically January 30, 1994) was Super Bowl XXVIII.\n",
      "3. **Super Bowl XXVIII Winner:** Super Bowl XXVIII was won by the **Dallas Cowboys**.\n",
      "\n",
      "Therefore, the NFL team that won the Super Bowl in the year Justin Bieber was born was the **Dallas Cowboys**.\n",
      "\n"
     ]
    }
   ],
   "source": [
    "template = \"\"\"Question: {question}\n",
    "Answer: Let's think step by step.\"\"\"\n",
    "\n",
    "prompt = PromptTemplate(template=template, input_variables=[\"question\"])\n",
    "\n",
    "llm = ChatOpenAI(\n",
    "    openai_api_key=getenv(\"OPENROUTER_API_KEY\"),\n",
    "    openai_api_base=getenv(\"OPENROUTER_BASE_URL\"),\n",
    "    model_name=\"google/gemma-3-27b-it:free\",\n",
    "    # model_kwargs={\n",
    "    #   \"headers\": {\n",
    "    #     \"HTTP-Referer\": getenv(\"YOUR_SITE_URL\"),\n",
    "    #     \"X-Title\": getenv(\"YOUR_SITE_NAME\"),\n",
    "    #   }\n",
    "    # },\n",
    ")\n",
    "\n",
    "llm_chain = LLMChain(prompt=prompt, llm=llm)\n",
    "\n",
    "question = \"What NFL team won the Super Bowl in the year Justin Beiber was born?\"\n",
    "\n",
    "print(llm_chain.run(question))\n"
   ]
  },
  {
   "cell_type": "code",
   "execution_count": null,
   "id": "c3924cc3",
   "metadata": {},
   "outputs": [],
   "source": []
  }
 ],
 "metadata": {
  "kernelspec": {
   "display_name": ".venv",
   "language": "python",
   "name": "python3"
  },
  "language_info": {
   "codemirror_mode": {
    "name": "ipython",
    "version": 3
   },
   "file_extension": ".py",
   "mimetype": "text/x-python",
   "name": "python",
   "nbconvert_exporter": "python",
   "pygments_lexer": "ipython3",
   "version": "3.13.2"
  }
 },
 "nbformat": 4,
 "nbformat_minor": 5
}
